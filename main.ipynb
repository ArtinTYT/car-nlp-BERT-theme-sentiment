{
 "cells": [
  {
   "metadata": {},
   "cell_type": "markdown",
   "source": "# Car NLP project",
   "id": "701a07e0fa7aa1e3"
  },
  {
   "metadata": {},
   "cell_type": "markdown",
   "source": "# 1. 处理数据集",
   "id": "283a7a6e8489c574"
  },
  {
   "metadata": {
    "collapsed": true,
    "ExecuteTime": {
     "end_time": "2025-06-21T07:47:12.631024Z",
     "start_time": "2025-06-21T07:47:12.627264Z"
    }
   },
   "cell_type": "code",
   "source": [
    "import os\n",
    "import pandas as pd"
   ],
   "id": "initial_id",
   "outputs": [],
   "execution_count": 46
  },
  {
   "metadata": {
    "ExecuteTime": {
     "end_time": "2025-06-21T07:47:12.645596Z",
     "start_time": "2025-06-21T07:47:12.643007Z"
    }
   },
   "cell_type": "code",
   "source": [
    "# 文件路径（确认你的路径和文件名）\n",
    "data_dir = 'data'\n",
    "train_path = os.path.join(data_dir, 'train.txt')\n",
    "test_path = os.path.join(data_dir, 'test.txt')"
   ],
   "id": "9ad5d582547e507b",
   "outputs": [],
   "execution_count": 47
  },
  {
   "metadata": {
    "ExecuteTime": {
     "end_time": "2025-06-21T07:47:12.691143Z",
     "start_time": "2025-06-21T07:47:12.659713Z"
    }
   },
   "cell_type": "code",
   "source": [
    "def load_data(file_path):\n",
    "    texts = []\n",
    "    themes = []\n",
    "    sentiments = []\n",
    "    with open(file_path, encoding='utf-8') as f:\n",
    "        for line in f:\n",
    "            line = line.strip()\n",
    "            if not line:\n",
    "                continue\n",
    "            # 分成两部分：文本\\t主题#情感\n",
    "            parts = line.split('\\t')\n",
    "            if len(parts) < 2:\n",
    "                continue\n",
    "            text = parts[0]\n",
    "            tags = parts[1:]\n",
    "            theme_labels = []\n",
    "            sentiment_labels = []\n",
    "            for tag in tags:\n",
    "                # 主题#情感\n",
    "                if '#' in tag:\n",
    "                    theme, sentiment = tag.split('#')\n",
    "                    theme_labels.append(theme)\n",
    "                    sentiment_labels.append(int(sentiment))\n",
    "            texts.append(text)\n",
    "            themes.append(theme_labels)\n",
    "            sentiments.append(sentiment_labels)\n",
    "    return pd.DataFrame({'text': texts, 'themes': themes, 'sentiments': sentiments})\n",
    "\n",
    "df_train = load_data(train_path)\n",
    "df_test = load_data(test_path)\n",
    "\n",
    "df_train.head()\n"
   ],
   "id": "45f2b8194c691acf",
   "outputs": [
    {
     "data": {
      "text/plain": [
       "                                                text themes sentiments\n",
       "0  因为 森林 人 即将 换代 ， 这套 系统 没 必要 装 在 一 款 即将 换代 的 车型 ...   [价格]        [0]\n",
       "1  四驱 价格 貌似 挺 高 的 ， 高 的 可以 看齐 XC 60 了 ， 看 实 车前 脸 ...   [价格]       [-1]\n",
       "2  斯柯达 要说 质量 ， 似乎 比 大众 要 好 一点 ， 价格 也 低 一些 ， 用料 完全...   [价格]        [1]\n",
       "3  这 玩意 都 是 给 有钱 任性 又 不 懂 车 的 土豪 用 的 ， 这 价格 换 一 次...   [价格]       [-1]\n",
       "4                   17 价格 忒 高 ， 估计 也 就是 14 - 15 左右 。   [价格]       [-1]"
      ],
      "text/html": [
       "<div>\n",
       "<style scoped>\n",
       "    .dataframe tbody tr th:only-of-type {\n",
       "        vertical-align: middle;\n",
       "    }\n",
       "\n",
       "    .dataframe tbody tr th {\n",
       "        vertical-align: top;\n",
       "    }\n",
       "\n",
       "    .dataframe thead th {\n",
       "        text-align: right;\n",
       "    }\n",
       "</style>\n",
       "<table border=\"1\" class=\"dataframe\">\n",
       "  <thead>\n",
       "    <tr style=\"text-align: right;\">\n",
       "      <th></th>\n",
       "      <th>text</th>\n",
       "      <th>themes</th>\n",
       "      <th>sentiments</th>\n",
       "    </tr>\n",
       "  </thead>\n",
       "  <tbody>\n",
       "    <tr>\n",
       "      <th>0</th>\n",
       "      <td>因为 森林 人 即将 换代 ， 这套 系统 没 必要 装 在 一 款 即将 换代 的 车型 ...</td>\n",
       "      <td>[价格]</td>\n",
       "      <td>[0]</td>\n",
       "    </tr>\n",
       "    <tr>\n",
       "      <th>1</th>\n",
       "      <td>四驱 价格 貌似 挺 高 的 ， 高 的 可以 看齐 XC 60 了 ， 看 实 车前 脸 ...</td>\n",
       "      <td>[价格]</td>\n",
       "      <td>[-1]</td>\n",
       "    </tr>\n",
       "    <tr>\n",
       "      <th>2</th>\n",
       "      <td>斯柯达 要说 质量 ， 似乎 比 大众 要 好 一点 ， 价格 也 低 一些 ， 用料 完全...</td>\n",
       "      <td>[价格]</td>\n",
       "      <td>[1]</td>\n",
       "    </tr>\n",
       "    <tr>\n",
       "      <th>3</th>\n",
       "      <td>这 玩意 都 是 给 有钱 任性 又 不 懂 车 的 土豪 用 的 ， 这 价格 换 一 次...</td>\n",
       "      <td>[价格]</td>\n",
       "      <td>[-1]</td>\n",
       "    </tr>\n",
       "    <tr>\n",
       "      <th>4</th>\n",
       "      <td>17 价格 忒 高 ， 估计 也 就是 14 - 15 左右 。</td>\n",
       "      <td>[价格]</td>\n",
       "      <td>[-1]</td>\n",
       "    </tr>\n",
       "  </tbody>\n",
       "</table>\n",
       "</div>"
      ]
     },
     "execution_count": 48,
     "metadata": {},
     "output_type": "execute_result"
    }
   ],
   "execution_count": 48
  },
  {
   "metadata": {},
   "cell_type": "markdown",
   "source": "# 2. 标签编码\n",
   "id": "a8698412380b96d0"
  },
  {
   "metadata": {
    "ExecuteTime": {
     "end_time": "2025-06-21T07:47:12.720830Z",
     "start_time": "2025-06-21T07:47:12.718563Z"
    }
   },
   "cell_type": "code",
   "source": [
    "# 10个主题（一定要顺序稳定）\n",
    "THEMES = ['动力', '价格', '内饰', '配置', '安全性', '外观', '操控', '油耗', '空间', '舒适性']\n",
    "THEME2IDX = {theme: idx for idx, theme in enumerate(THEMES)}\n",
    "N_THEMES = len(THEMES)\n",
    "\n",
    "# 情感标签：正向1, 中立0, 负向-1\n",
    "SENTIMENTS = [-1, 0, 1]\n",
    "SENTIMENT2IDX = {v: i for i, v in enumerate(SENTIMENTS)}\n"
   ],
   "id": "b85739452e7c376",
   "outputs": [],
   "execution_count": 49
  },
  {
   "metadata": {},
   "cell_type": "markdown",
   "source": "## 2.1 主题 Multi-hot 编码（多标签）",
   "id": "19838d147da26bc5"
  },
  {
   "metadata": {
    "ExecuteTime": {
     "end_time": "2025-06-21T07:47:12.761150Z",
     "start_time": "2025-06-21T07:47:12.750805Z"
    }
   },
   "cell_type": "code",
   "source": [
    "import numpy as np\n",
    "\n",
    "def encode_themes(theme_list):\n",
    "    multi_hot = np.zeros(N_THEMES, dtype=int)\n",
    "    for theme in theme_list:\n",
    "        if theme in THEME2IDX:\n",
    "            multi_hot[THEME2IDX[theme]] = 1\n",
    "    return multi_hot\n",
    "\n",
    "df_train['theme_multi_hot'] = df_train['themes'].apply(encode_themes)\n",
    "df_test['theme_multi_hot'] = df_test['themes'].apply(encode_themes)\n"
   ],
   "id": "58178e3f1de3b29d",
   "outputs": [],
   "execution_count": 50
  },
  {
   "metadata": {},
   "cell_type": "markdown",
   "source": [
    "## 2.2 情感标签编码\n",
    "\n",
    "### A. 情感三分类（整体标签）"
   ],
   "id": "1c211f282e9493b3"
  },
  {
   "metadata": {
    "ExecuteTime": {
     "end_time": "2025-06-21T07:47:12.782521Z",
     "start_time": "2025-06-21T07:47:12.777339Z"
    }
   },
   "cell_type": "code",
   "source": [
    "def sum_sentiment_label(senti_list):\n",
    "    s = sum(senti_list)\n",
    "    if s > 0:\n",
    "        return 1  # 正向\n",
    "    elif s < 0:\n",
    "        return -1 # 负向\n",
    "    else:\n",
    "        return 0  # 中立\n",
    "\n",
    "df_train['sentiment_sum'] = df_train['sentiments'].apply(sum_sentiment_label)\n",
    "df_test['sentiment_sum'] = df_test['sentiments'].apply(sum_sentiment_label)\n"
   ],
   "id": "6e6bc7aa2f225b1d",
   "outputs": [],
   "execution_count": 51
  },
  {
   "metadata": {},
   "cell_type": "markdown",
   "source": "### B. 每个主题的情感（多标签）",
   "id": "62a0023f67ed596c"
  },
  {
   "metadata": {
    "ExecuteTime": {
     "end_time": "2025-06-21T07:47:12.846055Z",
     "start_time": "2025-06-21T07:47:12.790505Z"
    }
   },
   "cell_type": "code",
   "source": [
    "def encode_theme_sentiments(theme_list, senti_list):\n",
    "    labels = np.zeros(N_THEMES, dtype=int)\n",
    "    for theme, senti in zip(theme_list, senti_list):\n",
    "        if theme in THEME2IDX:\n",
    "            labels[THEME2IDX[theme]] = senti  # -1, 0, 1\n",
    "    return labels\n",
    "\n",
    "df_train['theme_sentiments'] = df_train.apply(lambda row: encode_theme_sentiments(row['themes'], row['sentiments']), axis=1)\n",
    "df_test['theme_sentiments'] = df_test.apply(lambda row: encode_theme_sentiments(row['themes'], row['sentiments']), axis=1)\n"
   ],
   "id": "32c7680dbab2ae5",
   "outputs": [],
   "execution_count": 52
  },
  {
   "metadata": {
    "ExecuteTime": {
     "end_time": "2025-06-21T07:47:12.861420Z",
     "start_time": "2025-06-21T07:47:12.856119Z"
    }
   },
   "cell_type": "code",
   "source": [
    "# 检查一下数据结构\n",
    "print(df_train[['text', 'theme_multi_hot', 'sentiment_sum', 'theme_sentiments']].head())\n"
   ],
   "id": "b360c84ed75e5a6a",
   "outputs": [
    {
     "name": "stdout",
     "output_type": "stream",
     "text": [
      "                                                text  \\\n",
      "0  因为 森林 人 即将 换代 ， 这套 系统 没 必要 装 在 一 款 即将 换代 的 车型 ...   \n",
      "1  四驱 价格 貌似 挺 高 的 ， 高 的 可以 看齐 XC 60 了 ， 看 实 车前 脸 ...   \n",
      "2  斯柯达 要说 质量 ， 似乎 比 大众 要 好 一点 ， 价格 也 低 一些 ， 用料 完全...   \n",
      "3  这 玩意 都 是 给 有钱 任性 又 不 懂 车 的 土豪 用 的 ， 这 价格 换 一 次...   \n",
      "4                   17 价格 忒 高 ， 估计 也 就是 14 - 15 左右 。   \n",
      "\n",
      "                  theme_multi_hot  sentiment_sum  \\\n",
      "0  [0, 1, 0, 0, 0, 0, 0, 0, 0, 0]              0   \n",
      "1  [0, 1, 0, 0, 0, 0, 0, 0, 0, 0]             -1   \n",
      "2  [0, 1, 0, 0, 0, 0, 0, 0, 0, 0]              1   \n",
      "3  [0, 1, 0, 0, 0, 0, 0, 0, 0, 0]             -1   \n",
      "4  [0, 1, 0, 0, 0, 0, 0, 0, 0, 0]             -1   \n",
      "\n",
      "                  theme_sentiments  \n",
      "0   [0, 0, 0, 0, 0, 0, 0, 0, 0, 0]  \n",
      "1  [0, -1, 0, 0, 0, 0, 0, 0, 0, 0]  \n",
      "2   [0, 1, 0, 0, 0, 0, 0, 0, 0, 0]  \n",
      "3  [0, -1, 0, 0, 0, 0, 0, 0, 0, 0]  \n",
      "4  [0, -1, 0, 0, 0, 0, 0, 0, 0, 0]  \n"
     ]
    }
   ],
   "execution_count": 53
  },
  {
   "metadata": {},
   "cell_type": "markdown",
   "source": "# 3. BERT输入格式+数据集封装",
   "id": "a183eae7d132b94e"
  },
  {
   "metadata": {
    "ExecuteTime": {
     "end_time": "2025-06-21T08:26:51.696582Z",
     "start_time": "2025-06-21T08:26:31.827389Z"
    }
   },
   "cell_type": "code",
   "source": [
    "from transformers import BertTokenizer, BertModel\n",
    "import torch\n",
    "from torch.utils.data import Dataset, DataLoader\n",
    "\n",
    "# 指定本地下载路径\n",
    "cache_path = 'model/'\n",
    "\n",
    "tokenizer = BertTokenizer.from_pretrained('bert-base-chinese', cache_dir=cache_path)\n",
    "bert_model = BertModel.from_pretrained('bert-base-chinese', cache_dir=cache_path)\n",
    "\n",
    "MAX_LEN = 64  # 按你文本实际长度微调，一般40-128都行"
   ],
   "id": "ad9918487a5b64c8",
   "outputs": [
    {
     "data": {
      "text/plain": [
       "tokenizer_config.json:   0%|          | 0.00/49.0 [00:00<?, ?B/s]"
      ],
      "application/vnd.jupyter.widget-view+json": {
       "version_major": 2,
       "version_minor": 0,
       "model_id": "2e782bb2cdb84dc2abe14668494550c2"
      }
     },
     "metadata": {},
     "output_type": "display_data"
    },
    {
     "data": {
      "text/plain": [
       "vocab.txt:   0%|          | 0.00/110k [00:00<?, ?B/s]"
      ],
      "application/vnd.jupyter.widget-view+json": {
       "version_major": 2,
       "version_minor": 0,
       "model_id": "f7d3ecc210c849b8a6b3d75e370b2a20"
      }
     },
     "metadata": {},
     "output_type": "display_data"
    },
    {
     "data": {
      "text/plain": [
       "tokenizer.json:   0%|          | 0.00/269k [00:00<?, ?B/s]"
      ],
      "application/vnd.jupyter.widget-view+json": {
       "version_major": 2,
       "version_minor": 0,
       "model_id": "5c01f36575c2486dbbdd92fbb99251e2"
      }
     },
     "metadata": {},
     "output_type": "display_data"
    },
    {
     "data": {
      "text/plain": [
       "config.json:   0%|          | 0.00/624 [00:00<?, ?B/s]"
      ],
      "application/vnd.jupyter.widget-view+json": {
       "version_major": 2,
       "version_minor": 0,
       "model_id": "d7bf826aa8db4f129dd7c11f3a9b04ac"
      }
     },
     "metadata": {},
     "output_type": "display_data"
    },
    {
     "data": {
      "text/plain": [
       "model.safetensors:   0%|          | 0.00/412M [00:00<?, ?B/s]"
      ],
      "application/vnd.jupyter.widget-view+json": {
       "version_major": 2,
       "version_minor": 0,
       "model_id": "4388cc6c5f2c43eeb74b6177546e0181"
      }
     },
     "metadata": {},
     "output_type": "display_data"
    }
   ],
   "execution_count": 68
  },
  {
   "metadata": {
    "ExecuteTime": {
     "end_time": "2025-06-21T08:27:21.162907Z",
     "start_time": "2025-06-21T08:27:21.155447Z"
    }
   },
   "cell_type": "code",
   "source": [
    "class CarOpinionDataset(Dataset):\n",
    "    def __init__(self, df, task='sentiment'):\n",
    "        self.texts = df['text'].tolist()\n",
    "        self.themes = df['theme_multi_hot'].tolist()\n",
    "        self.theme_sentiments = df['theme_sentiments'].tolist()\n",
    "        self.sentiments = df['sentiment_sum'].tolist()\n",
    "        self.task = task\n",
    "\n",
    "    def __len__(self):\n",
    "        return len(self.texts)\n",
    "\n",
    "    def __getitem__(self, idx):\n",
    "        text = self.texts[idx]\n",
    "        encoding = tokenizer(\n",
    "            text,\n",
    "            padding='max_length',\n",
    "            truncation=True,\n",
    "            max_length=MAX_LEN,\n",
    "            return_tensors='pt'\n",
    "        )\n",
    "        # squeeze: [1, L] -> [L]\n",
    "        encoding = {k: v.squeeze(0) for k, v in encoding.items()}\n",
    "\n",
    "        # 单标签 or 多标签\n",
    "        if self.task == 'sentiment':  # 三分类\n",
    "            label = torch.tensor(SENTIMENT2IDX[self.sentiments[idx]], dtype=torch.long)\n",
    "        elif self.task == 'theme':  # 多标签\n",
    "            label = torch.tensor(self.themes[idx], dtype=torch.float)\n",
    "        elif self.task == 'theme_sentiments':  # 主题对应情感（进阶任务）\n",
    "            label = torch.tensor(self.theme_sentiments[idx], dtype=torch.float)\n",
    "        else:\n",
    "            raise ValueError(\"Unknown task\")\n",
    "        return encoding, label"
   ],
   "id": "57418427f5e8178f",
   "outputs": [],
   "execution_count": 70
  },
  {
   "metadata": {
    "ExecuteTime": {
     "end_time": "2025-06-21T08:27:21.739880Z",
     "start_time": "2025-06-21T08:27:21.716284Z"
    }
   },
   "cell_type": "code",
   "source": [
    "# 例子：情感分类数据集和多标签主题分类数据集\n",
    "train_sentiment_ds = CarOpinionDataset(df_train, task='sentiment')\n",
    "train_theme_ds = CarOpinionDataset(df_train, task='theme')\n",
    "\n",
    "# DataLoader示例\n",
    "BATCH_SIZE = 32\n",
    "\n",
    "train_sentiment_loader = DataLoader(train_sentiment_ds, batch_size=BATCH_SIZE, shuffle=True)\n",
    "train_theme_loader = DataLoader(train_theme_ds, batch_size=BATCH_SIZE, shuffle=True)\n",
    "\n",
    "# 看看一批数据的结构\n",
    "batch = next(iter(train_sentiment_loader))\n",
    "print(batch[0].keys())  # input_ids, token_type_ids, attention_mask\n",
    "print(batch[1].shape)   # (batch_size,)"
   ],
   "id": "4260fdff19e24b97",
   "outputs": [
    {
     "name": "stdout",
     "output_type": "stream",
     "text": [
      "dict_keys(['input_ids', 'token_type_ids', 'attention_mask'])\n",
      "torch.Size([32])\n"
     ]
    }
   ],
   "execution_count": 71
  },
  {
   "metadata": {},
   "cell_type": "markdown",
   "source": [
    "# 4 Bert情感分类\n",
    "## 4.1 BERT情感三分类模型"
   ],
   "id": "9e9432caeda0a5f0"
  },
  {
   "metadata": {
    "ExecuteTime": {
     "end_time": "2025-06-21T08:22:04.884072Z",
     "start_time": "2025-06-21T08:22:04.882215Z"
    }
   },
   "cell_type": "code",
   "source": [
    "from transformers import BertModel\n",
    "import torch.nn as nn"
   ],
   "id": "6daeac41e418968d",
   "outputs": [],
   "execution_count": 64
  },
  {
   "metadata": {
    "ExecuteTime": {
     "end_time": "2025-06-21T08:27:38.145274Z",
     "start_time": "2025-06-21T08:27:38.141703Z"
    }
   },
   "cell_type": "code",
   "source": [
    "class BertForSentiment(nn.Module):\n",
    "    def __init__(self, pretrained_model='bert-base-chinese', num_labels=3):\n",
    "        super().__init__()\n",
    "        self.bert = BertModel.from_pretrained(pretrained_model)\n",
    "        self.dropout = nn.Dropout(0.3)\n",
    "        self.fc = nn.Linear(self.bert.config.hidden_size, num_labels)\n",
    "\n",
    "    def forward(self, input_ids, attention_mask, token_type_ids):\n",
    "        outputs = self.bert(input_ids=input_ids,\n",
    "                            attention_mask=attention_mask,\n",
    "                            token_type_ids=token_type_ids)\n",
    "        pooled_output = outputs.pooler_output  # [batch, hidden_size]\n",
    "        out = self.dropout(pooled_output)\n",
    "        out = self.fc(out)  # [batch, num_labels]\n",
    "        return out\n"
   ],
   "id": "620496a2e5b5c68c",
   "outputs": [],
   "execution_count": 72
  },
  {
   "metadata": {},
   "cell_type": "markdown",
   "source": "## 4.2 训练和验证流程",
   "id": "a696e9e665944b56"
  },
  {
   "metadata": {
    "ExecuteTime": {
     "end_time": "2025-06-21T08:30:34.383758Z",
     "start_time": "2025-06-21T08:30:33.563740Z"
    }
   },
   "cell_type": "code",
   "source": [
    "import torch.optim as optim\n",
    "from sklearn.metrics import accuracy_score, precision_score, recall_score, f1_score\n",
    "from tqdm import tqdm\n",
    "\n",
    "device = torch.device('cuda' if torch.cuda.is_available() else 'cpu')\n",
    "model = BertForSentiment().to(device)\n",
    "optimizer = optim.AdamW(model.parameters(), lr=2e-5)\n",
    "criterion = nn.CrossEntropyLoss()\n",
    "\n",
    "def train_one_epoch(model, dataloader, optimizer, criterion):\n",
    "    model.train()\n",
    "    losses = []\n",
    "    all_labels = []\n",
    "    all_preds = []\n",
    "    for batch in tqdm(dataloader, desc=\"Training\", leave=False):  # 加这个！\n",
    "        inputs, labels = batch\n",
    "        for k in inputs:\n",
    "            inputs[k] = inputs[k].to(device)\n",
    "        labels = labels.to(device)\n",
    "        optimizer.zero_grad()\n",
    "        outputs = model(**inputs)\n",
    "        loss = criterion(outputs, labels)\n",
    "        loss.backward()\n",
    "        optimizer.step()\n",
    "        losses.append(loss.item())\n",
    "        preds = outputs.argmax(1).detach().cpu().numpy()\n",
    "        all_preds.extend(preds)\n",
    "        all_labels.extend(labels.detach().cpu().numpy())\n",
    "    acc = accuracy_score(all_labels, all_preds)\n",
    "    return np.mean(losses), acc\n",
    "\n",
    "\n",
    "def eval_model(model, dataloader, criterion):\n",
    "    model.eval()\n",
    "    losses = []\n",
    "    all_labels = []\n",
    "    all_preds = []\n",
    "    with torch.no_grad():\n",
    "        for batch in dataloader:\n",
    "            inputs, labels = batch\n",
    "            for k in inputs:\n",
    "                inputs[k] = inputs[k].to(device)\n",
    "            labels = labels.to(device)\n",
    "            outputs = model(**inputs)\n",
    "            loss = criterion(outputs, labels)\n",
    "            losses.append(loss.item())\n",
    "            preds = outputs.argmax(1).detach().cpu().numpy()\n",
    "            all_preds.extend(preds)\n",
    "            all_labels.extend(labels.detach().cpu().numpy())\n",
    "    acc = accuracy_score(all_labels, all_preds)\n",
    "    precision = precision_score(all_labels, all_preds, average='macro', zero_division=0)\n",
    "    recall = recall_score(all_labels, all_preds, average='macro', zero_division=0)\n",
    "    f1 = f1_score(all_labels, all_preds, average='macro', zero_division=0)\n",
    "    return np.mean(losses), acc, precision, recall, f1\n"
   ],
   "id": "2d7ff28652f6f91e",
   "outputs": [],
   "execution_count": 75
  },
  {
   "metadata": {
    "ExecuteTime": {
     "end_time": "2025-06-21T10:00:24.990965Z",
     "start_time": "2025-06-21T08:53:45.938645Z"
    }
   },
   "cell_type": "code",
   "source": [
    "EPOCHS = 5\n",
    "train_losses, train_accs, val_losses, val_accs = [], [], [], []\n",
    "\n",
    "for epoch in range(EPOCHS):\n",
    "    train_loss, train_acc = train_one_epoch(model, train_sentiment_loader, optimizer, criterion)\n",
    "    val_loss, val_acc, val_prec, val_recall, val_f1 = eval_model(model, train_sentiment_loader, criterion) # 这里建议有验证集，先用训练集当demo\n",
    "    print(f\"Epoch {epoch+1}: Train Loss {train_loss:.4f}, Train Acc {train_acc:.4f} | Val Loss {val_loss:.4f}, Val Acc {val_acc:.4f}\")\n",
    "    train_losses.append(train_loss)\n",
    "    train_accs.append(train_acc)\n",
    "    val_losses.append(val_loss)\n",
    "    val_accs.append(val_acc)"
   ],
   "id": "fa4cb88b5cc9eb75",
   "outputs": [
    {
     "name": "stderr",
     "output_type": "stream",
     "text": [
      "                                                           \r"
     ]
    },
    {
     "name": "stdout",
     "output_type": "stream",
     "text": [
      "Epoch 1: Train Loss 0.5469, Train Acc 0.7758 | Val Loss 0.3914, Val Acc 0.8622\n"
     ]
    },
    {
     "name": "stderr",
     "output_type": "stream",
     "text": [
      "                                                           \r"
     ]
    },
    {
     "name": "stdout",
     "output_type": "stream",
     "text": [
      "Epoch 2: Train Loss 0.4030, Train Acc 0.8427 | Val Loss 0.2196, Val Acc 0.9366\n"
     ]
    },
    {
     "name": "stderr",
     "output_type": "stream",
     "text": [
      "                                                           \r"
     ]
    },
    {
     "name": "stdout",
     "output_type": "stream",
     "text": [
      "Epoch 3: Train Loss 0.2772, Train Acc 0.8998 | Val Loss 0.1429, Val Acc 0.9573\n"
     ]
    },
    {
     "name": "stderr",
     "output_type": "stream",
     "text": [
      "                                                           \r"
     ]
    },
    {
     "name": "stdout",
     "output_type": "stream",
     "text": [
      "Epoch 4: Train Loss 0.1817, Train Acc 0.9383 | Val Loss 0.0673, Val Acc 0.9809\n"
     ]
    },
    {
     "name": "stderr",
     "output_type": "stream",
     "text": [
      "                                                           \r"
     ]
    },
    {
     "name": "stdout",
     "output_type": "stream",
     "text": [
      "Epoch 5: Train Loss 0.1247, Train Acc 0.9583 | Val Loss 0.1422, Val Acc 0.9481\n"
     ]
    }
   ],
   "execution_count": 77
  },
  {
   "metadata": {
    "ExecuteTime": {
     "end_time": "2025-06-21T10:10:32.136381Z",
     "start_time": "2025-06-21T10:10:31.504634Z"
    }
   },
   "cell_type": "code",
   "source": [
    "import matplotlib.pyplot as plt\n",
    "\n",
    "plt.figure(figsize=(10,4))\n",
    "plt.subplot(1,2,1)\n",
    "plt.plot(train_losses, label='Train Loss')\n",
    "plt.plot(val_losses, label='Val Loss')\n",
    "plt.legend()\n",
    "plt.title('Loss Curve')\n",
    "plt.subplot(1,2,2)\n",
    "plt.plot(train_accs, label='Train Acc')\n",
    "plt.plot(val_accs, label='Val Acc')\n",
    "plt.legend()\n",
    "plt.title('Accuracy Curve')\n",
    "plt.show()\n"
   ],
   "id": "75449174ff2f56a5",
   "outputs": [
    {
     "data": {
      "text/plain": [
       "<Figure size 1000x400 with 2 Axes>"
      ],
      "image/png": "[encoded data removed]"
     },
     "metadata": {},
     "output_type": "display_data"
    }
   ],
   "execution_count": 78
  },
  {
   "metadata": {},
   "cell_type": "markdown",
   "source": [
    "Result：\n",
    "- Loss 趋势：训练/验证都稳定下降，说明模型在学习，没有炸掉。\n",
    "- Accuracy 趋势：准确率不断升高，而且训练和验证接近，没有明显过拟合或欠拟合。\n",
    "- 最后一轮：Train/Val Loss 都很低，Accuracy 很高（0.95+），说明表现很好。"
   ],
   "id": "5d7cc109153f2721"
  },
  {
   "metadata": {},
   "cell_type": "markdown",
   "source": [
    "# 5.主题识别（multi-label）\n",
    "\n",
    "## 5.1 Multi-label BERT模型"
   ],
   "id": "2305ac388f55c395"
  },
  {
   "metadata": {
    "ExecuteTime": {
     "end_time": "2025-06-21T10:16:41.583606Z",
     "start_time": "2025-06-21T10:16:41.575671Z"
    }
   },
   "cell_type": "code",
   "source": [
    "class BertForMultiLabelTheme(nn.Module):\n",
    "    def __init__(self, pretrained_model='bert-base-chinese', num_labels=10):\n",
    "        super().__init__()\n",
    "        self.bert = BertModel.from_pretrained(pretrained_model, cache_dir='model/')\n",
    "        self.dropout = nn.Dropout(0.3)\n",
    "        self.fc = nn.Linear(self.bert.config.hidden_size, num_labels)\n",
    "\n",
    "    def forward(self, input_ids, attention_mask, token_type_ids):\n",
    "        outputs = self.bert(input_ids=input_ids,\n",
    "                            attention_mask=attention_mask,\n",
    "                            token_type_ids=token_type_ids)\n",
    "        pooled_output = outputs.pooler_output\n",
    "        out = self.dropout(pooled_output)\n",
    "        out = self.fc(out)  # [batch, num_labels]\n",
    "        out = torch.sigmoid(out)  # 多标签需要sigmoid\n",
    "        return out\n"
   ],
   "id": "d95c32e325294dd9",
   "outputs": [],
   "execution_count": 83
  },
  {
   "metadata": {},
   "cell_type": "markdown",
   "source": "## 5.2. 换 Loss、标签和指标",
   "id": "dd41a30018784053"
  },
  {
   "metadata": {
    "ExecuteTime": {
     "end_time": "2025-06-21T10:16:43.586833Z",
     "start_time": "2025-06-21T10:16:42.861258Z"
    }
   },
   "cell_type": "code",
   "source": [
    "from tqdm import tqdm\n",
    "import numpy as np\n",
    "from sklearn.metrics import accuracy_score, precision_score, recall_score, f1_score\n",
    "\n",
    "device = torch.device('cuda' if torch.cuda.is_available() else 'cpu')\n",
    "model = BertForMultiLabelTheme().to(device)\n",
    "optimizer = torch.optim.AdamW(model.parameters(), lr=2e-5)\n",
    "criterion = nn.BCELoss()\n",
    "\n",
    "def train_multilabel_one_epoch(model, dataloader, optimizer, criterion):\n",
    "    model.train()\n",
    "    losses = []\n",
    "    all_labels = []\n",
    "    all_preds = []\n",
    "    for batch in tqdm(dataloader, desc=\"Training multi-label\", leave=False):\n",
    "        inputs, labels = batch\n",
    "        for k in inputs:\n",
    "            inputs[k] = inputs[k].to(device)\n",
    "        labels = labels.to(device)\n",
    "        optimizer.zero_grad()\n",
    "        outputs = model(**inputs)\n",
    "        loss = criterion(outputs, labels)\n",
    "        loss.backward()\n",
    "        optimizer.step()\n",
    "        losses.append(loss.item())\n",
    "        preds = (outputs > 0.5).int().cpu().numpy()\n",
    "        all_preds.append(preds)\n",
    "        all_labels.append(labels.cpu().numpy())\n",
    "    all_preds = np.concatenate(all_preds)\n",
    "    all_labels = np.concatenate(all_labels)\n",
    "    acc = accuracy_score(all_labels, all_preds)\n",
    "    return np.mean(losses), acc\n",
    "\n",
    "def eval_multilabel_model(model, dataloader, criterion):\n",
    "    model.eval()\n",
    "    losses = []\n",
    "    all_labels = []\n",
    "    all_preds = []\n",
    "    with torch.no_grad():\n",
    "        for batch in tqdm(dataloader, desc=\"Evaluating multi-label\", leave=False):\n",
    "            inputs, labels = batch\n",
    "            for k in inputs:\n",
    "                inputs[k] = inputs[k].to(device)\n",
    "            labels = labels.to(device)\n",
    "            outputs = model(**inputs)\n",
    "            loss = criterion(outputs, labels)\n",
    "            losses.append(loss.item())\n",
    "            preds = (outputs > 0.5).int().cpu().numpy()\n",
    "            all_preds.append(preds)\n",
    "            all_labels.append(labels.cpu().numpy())\n",
    "    all_preds = np.concatenate(all_preds)\n",
    "    all_labels = np.concatenate(all_labels)\n",
    "    acc = accuracy_score(all_labels, all_preds)\n",
    "    precision = precision_score(all_labels, all_preds, average='macro', zero_division=0)\n",
    "    recall = recall_score(all_labels, all_preds, average='macro', zero_division=0)\n",
    "    f1 = f1_score(all_labels, all_preds, average='macro', zero_division=0)\n",
    "    return np.mean(losses), acc, precision, recall, f1\n"
   ],
   "id": "43727c3d6b7eea34",
   "outputs": [],
   "execution_count": 84
  },
  {
   "metadata": {
    "ExecuteTime": {
     "end_time": "2025-06-21T11:33:03.553487Z",
     "start_time": "2025-06-21T10:16:43.593170Z"
    }
   },
   "cell_type": "code",
   "source": [
    "EPOCHS = 5  # 按你的需要来调\n",
    "train_losses, train_accs, val_losses, val_accs = [], [], [], []\n",
    "val_precisions, val_recalls, val_f1s = [], [], []\n",
    "\n",
    "for epoch in range(EPOCHS):\n",
    "    train_loss, train_acc = train_multilabel_one_epoch(model, train_theme_loader, optimizer, criterion)\n",
    "    val_loss, val_acc, val_prec, val_recall, val_f1 = eval_multilabel_model(model, train_theme_loader, criterion)  # demo用train，实际用val\n",
    "    print(f\"Epoch {epoch+1}: Train Loss {train_loss:.4f}, Train Acc {train_acc:.4f} | Val Loss {val_loss:.4f}, Val Acc {val_acc:.4f}, Macro F1 {val_f1:.4f}\")\n",
    "    train_losses.append(train_loss)\n",
    "    train_accs.append(train_acc)\n",
    "    val_losses.append(val_loss)\n",
    "    val_accs.append(val_acc)\n",
    "    val_precisions.append(val_prec)\n",
    "    val_recalls.append(val_recall)\n",
    "    val_f1s.append(val_f1)\n",
    "\n",
    "# 画Loss和Accuracy曲线\n",
    "import matplotlib.pyplot as plt\n",
    "\n",
    "plt.figure(figsize=(12,5))\n",
    "plt.subplot(1,2,1)\n",
    "plt.plot(train_losses, label='Train Loss')\n",
    "plt.plot(val_losses, label='Val Loss')\n",
    "plt.legend()\n",
    "plt.title('Loss Curve')\n",
    "plt.subplot(1,2,2)\n",
    "plt.plot(val_accs, label='Val Acc')\n",
    "plt.plot(val_f1s, label='Macro F1')\n",
    "plt.legend()\n",
    "plt.title('Accuracy / F1 Curve')\n",
    "plt.show()\n"
   ],
   "id": "71a0cb811a9f5cae",
   "outputs": [
    {
     "name": "stderr",
     "output_type": "stream",
     "text": [
      "                                                                         \r"
     ]
    },
    {
     "name": "stdout",
     "output_type": "stream",
     "text": [
      "Epoch 1: Train Loss 0.2350, Train Acc 0.4856 | Val Loss 0.1261, Val Acc 0.7775, Macro F1 0.8380\n"
     ]
    },
    {
     "name": "stderr",
     "output_type": "stream",
     "text": [
      "                                                                         \r"
     ]
    },
    {
     "name": "stdout",
     "output_type": "stream",
     "text": [
      "Epoch 2: Train Loss 0.1212, Train Acc 0.7665 | Val Loss 0.0922, Val Acc 0.8200, Macro F1 0.8764\n"
     ]
    },
    {
     "name": "stderr",
     "output_type": "stream",
     "text": [
      "                                                                         \r"
     ]
    },
    {
     "name": "stdout",
     "output_type": "stream",
     "text": [
      "Epoch 3: Train Loss 0.0953, Train Acc 0.8116 | Val Loss 0.0761, Val Acc 0.8411, Macro F1 0.8994\n"
     ]
    },
    {
     "name": "stderr",
     "output_type": "stream",
     "text": [
      "                                                                         \r"
     ]
    },
    {
     "name": "stdout",
     "output_type": "stream",
     "text": [
      "Epoch 4: Train Loss 0.0807, Train Acc 0.8331 | Val Loss 0.0651, Val Acc 0.8591, Macro F1 0.9173\n"
     ]
    },
    {
     "name": "stderr",
     "output_type": "stream",
     "text": [
      "                                                                         \r"
     ]
    },
    {
     "name": "stdout",
     "output_type": "stream",
     "text": [
      "Epoch 5: Train Loss 0.0694, Train Acc 0.8524 | Val Loss 0.0500, Val Acc 0.9032, Macro F1 0.9418\n"
     ]
    },
    {
     "data": {
      "text/plain": [
       "<Figure size 1200x500 with 2 Axes>"
      ],
      "image/png": "[encoded data removed]"
     },
     "metadata": {},
     "output_type": "display_data"
    }
   ],
   "execution_count": 85
  },
  {
   "metadata": {
    "ExecuteTime": {
     "end_time": "2025-06-21T11:33:03.636576Z",
     "start_time": "2025-06-21T11:33:03.631433Z"
    }
   },
   "cell_type": "code",
   "source": [
    "print(df_train.shape)  # (样本数, 列数)\n",
    "print(df_test.shape)   # (样本数, 列数)\n"
   ],
   "id": "f6607e7fd71e3139",
   "outputs": [
    {
     "name": "stdout",
     "output_type": "stream",
     "text": [
      "(8000, 6)\n",
      "(2653, 6)\n"
     ]
    }
   ],
   "execution_count": 86
  }
 ],
 "metadata": {
  "kernelspec": {
   "display_name": "Python 3",
   "language": "python",
   "name": "python3"
  },
  "language_info": {
   "codemirror_mode": {
    "name": "ipython",
    "version": 2
   },
   "file_extension": ".py",
   "mimetype": "text/x-python",
   "name": "python",
   "nbconvert_exporter": "python",
   "pygments_lexer": "ipython2",
   "version": "2.7.6"
  }
 },
 "nbformat": 4,
 "nbformat_minor": 5
}
